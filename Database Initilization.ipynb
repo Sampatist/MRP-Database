{
 "cells": [
  {
   "cell_type": "markdown",
   "id": "345d06f5",
   "metadata": {},
   "source": [
    "## 0-Libraries"
   ]
  },
  {
   "cell_type": "code",
   "execution_count": 1,
   "metadata": {},
   "outputs": [],
   "source": [
    "from Functions.sql_functions import *"
   ]
  },
  {
   "cell_type": "markdown",
   "id": "f7be4090",
   "metadata": {},
   "source": [
    "# 1- Creating the DataBase"
   ]
  },
  {
   "cell_type": "markdown",
   "id": "4078b1da",
   "metadata": {},
   "source": [
    "## 1.1 Creating The Tables"
   ]
  },
  {
   "cell_type": "code",
   "execution_count": 2,
   "id": "7cef79eb",
   "metadata": {},
   "outputs": [],
   "source": [
    "sql1 = \"DROP TABLE IF EXISTS Item\"\n",
    "sql_write(sql1)\n",
    "\n",
    "sql2 = '''\n",
    "  CREATE TABLE Item (\n",
    "    Item_ID INTEGER NOT NULL PRIMARY KEY,\n",
    "    Item_Name TEXT,\n",
    "    Lot_Size INTEGER,\n",
    "    Lead_Time INTEGER,\n",
    "    Current_Inventory INTEGER,\n",
    "    BOM_Level INTEGER\n",
    "  );\n",
    "'''\n",
    "sql_write(sql2)"
   ]
  },
  {
   "cell_type": "code",
   "execution_count": 3,
   "id": "99bd3ef3-5bd5-4252-bb53-903c3bd52ae3",
   "metadata": {},
   "outputs": [],
   "source": [
    "sql1 = \"DROP TABLE IF EXISTS BOM\"\n",
    "sql_write(sql1)\n",
    "\n",
    "sql2 = '''\n",
    "  CREATE TABLE BOM (\n",
    "    Item_ID INTEGER NOT NULL,\n",
    "    Component_ID INTEGER NOT NULL,\n",
    "    BOM_Multiplier INTEGER,\n",
    "    PRIMARY KEY(Item_ID, Component_ID),\n",
    "    FOREIGN KEY(Item_ID) REFERENCES Item(Item_ID),\n",
    "    FOREIGN KEY(Component_ID) REFERENCES Item(Item_ID)\n",
    "  );\n",
    "'''\n",
    "sql_write(sql2)"
   ]
  },
  {
   "cell_type": "code",
   "execution_count": 4,
   "id": "fd8269d9",
   "metadata": {},
   "outputs": [],
   "source": [
    "sql1 = \"DROP TABLE IF EXISTS Period\"\n",
    "sql_write(sql1)\n",
    "\n",
    "sql2 = '''\n",
    "    CREATE TABLE Period (\n",
    "        Period_ID INTEGER NOT NULL PRIMARY KEY,\n",
    "        Date TEXT\n",
    "    );\n",
    "'''\n",
    "sql_write(sql2)"
   ]
  },
  {
   "cell_type": "code",
   "execution_count": 5,
   "id": "2e011da9",
   "metadata": {},
   "outputs": [],
   "source": [
    "sql1 = \"DROP TABLE IF EXISTS Item_Period\"\n",
    "sql_write(sql1)\n",
    "\n",
    "sql2 = '''\n",
    "  CREATE TABLE Item_Period (\n",
    "    Item_ID INTEGER NOT NULL,\n",
    "    Period INTEGER NOT NULL,\n",
    "    Gross_Requirement INTEGER,\n",
    "    Scheduled_Receipt INTEGER,\n",
    "    Projected_Inventory INTEGER,\n",
    "    Net_Requirement INTEGER,\n",
    "    Planned_Order_Receipt INTEGER,\n",
    "    Planned_Order_Release INTEGER,\n",
    "    PRIMARY KEY (Item_ID, Period),\n",
    "    FOREIGN KEY(Item_ID) REFERENCES Item(Item_ID),\n",
    "    FOREIGN KEY(Period) REFERENCES Period(Period_ID)\n",
    "  );\n",
    "'''\n",
    "sql_write(sql2)"
   ]
  },
  {
   "cell_type": "markdown",
   "id": "ea5b9890",
   "metadata": {},
   "source": [
    "## 1.2- Filling the Tables"
   ]
  },
  {
   "cell_type": "code",
   "execution_count": 6,
   "metadata": {},
   "outputs": [],
   "source": [
    "from Functions.table_data import excel_to_table"
   ]
  },
  {
   "attachments": {},
   "cell_type": "markdown",
   "id": "4078b1da",
   "metadata": {},
   "source": [
    "### 1.2.1- Inserting Data using excel files"
   ]
  },
  {
   "cell_type": "code",
   "execution_count": 7,
   "id": "21ac7c63",
   "metadata": {},
   "outputs": [],
   "source": [
    "empty_table('Item')\n",
    "excel_to_table(ref='Data/Item_data.xlsx', table='Item')"
   ]
  },
  {
   "cell_type": "code",
   "execution_count": 8,
   "id": "21ac7c63",
   "metadata": {},
   "outputs": [],
   "source": [
    "empty_table('BOM')\n",
    "excel_to_table(ref='Data/BOM_data.xlsx', table='BOM')"
   ]
  },
  {
   "cell_type": "code",
   "execution_count": 9,
   "id": "8d96a2f5",
   "metadata": {},
   "outputs": [],
   "source": [
    "empty_table('Period')\n",
    "excel_to_table(ref='Data/Period_data.xlsx', table='Period')"
   ]
  },
  {
   "cell_type": "code",
   "execution_count": 77,
   "id": "8fbc3cdb",
   "metadata": {},
   "outputs": [],
   "source": [
    "empty_table('Item_Period')\n",
    "excel_to_table(ref='Data/Item_Period_data.xlsx', table='Item_Period')"
   ]
  },
  {
   "attachments": {},
   "cell_type": "markdown",
   "id": "4078b1da",
   "metadata": {},
   "source": [
    "### 1.2.2- Calculating BOM levels and materials"
   ]
  },
  {
   "cell_type": "code",
   "execution_count": 11,
   "metadata": {},
   "outputs": [],
   "source": [
    "from Functions.mrp_sql_functions import sql_update_bom_levels"
   ]
  },
  {
   "cell_type": "code",
   "execution_count": 12,
   "metadata": {},
   "outputs": [],
   "source": [
    "sql_update_bom_levels()"
   ]
  }
 ],
 "metadata": {
  "kernelspec": {
   "display_name": "Python 3",
   "language": "python",
   "name": "python3"
  },
  "language_info": {
   "codemirror_mode": {
    "name": "ipython",
    "version": 3
   },
   "file_extension": ".py",
   "mimetype": "text/x-python",
   "name": "python",
   "nbconvert_exporter": "python",
   "pygments_lexer": "ipython3",
   "version": "3.10.6"
  },
  "orig_nbformat": 4,
  "vscode": {
   "interpreter": {
    "hash": "369f2c481f4da34e4445cda3fffd2e751bd1c4d706f27375911949ba6bb62e1c"
   }
  }
 },
 "nbformat": 4,
 "nbformat_minor": 2
}
